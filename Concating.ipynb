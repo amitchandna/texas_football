{
 "cells": [
  {
   "cell_type": "code",
   "execution_count": 43,
   "metadata": {},
   "outputs": [],
   "source": [
    "import pandas as pd"
   ]
  },
  {
   "cell_type": "code",
   "execution_count": 52,
   "metadata": {},
   "outputs": [],
   "source": [
    "df_1 = pd.read_csv('/Users/amitchandna/Downloads/scripts/usa_1.csv',names=[\"Score\", \"Team_2\", \"Result_team_1\", \"Date\",\"District\",\"Time\",\"Team_1\",\"Team_1_Mascot\",\"Address\",\"Level\",\"Season\"],low_memory=False)\n",
    "df_2 = pd.read_csv('/Users/amitchandna/Downloads/scripts/usa_2.csv',names=[\"Score\", \"Team_2\", \"Result_team_1\", \"Date\",\"District\",\"Time\",\"Team_1\",\"Team_1_Mascot\",\"Address\",\"Level\",\"Season\"],low_memory=False)\n",
    "df_3 = pd.read_csv('/Users/amitchandna/Downloads/scripts/usa_3.csv',names=[\"Score\", \"Team_2\", \"Result_team_1\", \"Date\",\"District\",\"Time\",\"Team_1\",\"Team_1_Mascot\",\"Address\",\"Level\",\"Season\"],low_memory=False)\n",
    "df_4 = pd.read_csv('/Users/amitchandna/Downloads/scripts/usa_4.csv',names=[\"Score\", \"Team_2\", \"Result_team_1\", \"Date\",\"District\",\"Time\",\"Team_1\",\"Team_1_Mascot\",\"Address\",\"Level\",\"Season\"],low_memory=False)\n",
    "df_5 = pd.read_csv('/Users/amitchandna/Downloads/scripts/usa_5.csv',names=[\"Score\", \"Team_2\", \"Result_team_1\", \"Date\",\"District\",\"Time\",\"Team_1\",\"Team_1_Mascot\",\"Address\",\"Level\",\"Season\"],low_memory=False)\n",
    "df_6 = pd.read_csv('/Users/amitchandna/Downloads/scripts/usa_6.csv',names=[\"Score\", \"Team_2\", \"Result_team_1\", \"Date\",\"District\",\"Time\",\"Team_1\",\"Team_1_Mascot\",\"Address\",\"Level\",\"Season\"],low_memory=False)\n",
    "df_7 = pd.read_csv('/Users/amitchandna/Downloads/scripts/usa_7.csv',names=[\"Score\", \"Team_2\", \"Result_team_1\", \"Date\",\"District\",\"Time\",\"Team_1\",\"Team_1_Mascot\",\"Address\",\"Level\",\"Season\"],low_memory=False)\n",
    "df_8 = pd.read_csv('/Users/amitchandna/Downloads/scripts/usa_8.csv',names=[\"Score\", \"Team_2\", \"Result_team_1\", \"Date\",\"District\",\"Time\",\"Team_1\",\"Team_1_Mascot\",\"Address\",\"Level\",\"Season\"],low_memory=False)\n",
    "df_9 = pd.read_csv('/Users/amitchandna/Downloads/scripts/usa_9.csv',names=[\"Score\", \"Team_2\", \"Result_team_1\", \"Date\",\"District\",\"Time\",\"Team_1\",\"Team_1_Mascot\",\"Address\",\"Level\",\"Season\"],low_memory=False)\n"
   ]
  },
  {
   "cell_type": "code",
   "execution_count": 63,
   "metadata": {},
   "outputs": [],
   "source": [
    "df = pd.concat([df_1,df_2,df_3,df_4,df_5,df_6,df_7,df_8,df_9], join='inner')"
   ]
  },
  {
   "cell_type": "code",
   "execution_count": 64,
   "metadata": {},
   "outputs": [],
   "source": [
    "df = df.drop_duplicates()"
   ]
  },
  {
   "cell_type": "code",
   "execution_count": 65,
   "metadata": {},
   "outputs": [],
   "source": [
    "df.to_csv('/Users/amitchandna/Downloads/scripts/dekh.csv')"
   ]
  },
  {
   "cell_type": "code",
   "execution_count": 62,
   "metadata": {},
   "outputs": [
    {
     "data": {
      "text/plain": [
       "Index(['Score', 'Team_2', 'Result_team_1', 'Date', 'District', 'Time',\n",
       "       'Team_1', 'Team_1_Mascot', 'Address', 'Level', 'Season'],\n",
       "      dtype='object')"
      ]
     },
     "execution_count": 62,
     "metadata": {},
     "output_type": "execute_result"
    }
   ],
   "source": [
    "df.columns"
   ]
  },
  {
   "cell_type": "code",
   "execution_count": 57,
   "metadata": {},
   "outputs": [
    {
     "data": {
      "text/plain": [
       "(194304, 11)"
      ]
     },
     "execution_count": 57,
     "metadata": {},
     "output_type": "execute_result"
    }
   ],
   "source": []
  },
  {
   "cell_type": "code",
   "execution_count": 58,
   "metadata": {},
   "outputs": [
    {
     "data": {
      "text/html": [
       "<div>\n",
       "<style scoped>\n",
       "    .dataframe tbody tr th:only-of-type {\n",
       "        vertical-align: middle;\n",
       "    }\n",
       "\n",
       "    .dataframe tbody tr th {\n",
       "        vertical-align: top;\n",
       "    }\n",
       "\n",
       "    .dataframe thead th {\n",
       "        text-align: right;\n",
       "    }\n",
       "</style>\n",
       "<table border=\"1\" class=\"dataframe\">\n",
       "  <thead>\n",
       "    <tr style=\"text-align: right;\">\n",
       "      <th></th>\n",
       "      <th>Score</th>\n",
       "      <th>Team_2</th>\n",
       "      <th>Result_team_1</th>\n",
       "      <th>Date</th>\n",
       "      <th>District</th>\n",
       "      <th>Time</th>\n",
       "      <th>Team_1</th>\n",
       "      <th>Team_1_Mascot</th>\n",
       "      <th>Address</th>\n",
       "      <th>Level</th>\n",
       "      <th>Season</th>\n",
       "    </tr>\n",
       "  </thead>\n",
       "  <tbody>\n",
       "    <tr>\n",
       "      <th>0</th>\n",
       "      <td>31-7</td>\n",
       "      <td>Bishop AmatLa Puente</td>\n",
       "      <td>W</td>\n",
       "      <td>Fri, 8/25</td>\n",
       "      <td>Away • Non-League</td>\n",
       "      <td>7:00pm</td>\n",
       "      <td>Mater Dei</td>\n",
       "      <td>Monarchs</td>\n",
       "      <td>1202 W Edinger Ave, Santa Ana, CA, 92707-2191</td>\n",
       "      <td>NaN</td>\n",
       "      <td>NaN</td>\n",
       "    </tr>\n",
       "    <tr>\n",
       "      <th>1</th>\n",
       "      <td>35-21</td>\n",
       "      <td>Bishop GormanLas Vegas, NV</td>\n",
       "      <td>W</td>\n",
       "      <td>Fri, 9/1</td>\n",
       "      <td>Home • Non-League</td>\n",
       "      <td>7:00pm</td>\n",
       "      <td>Mater Dei</td>\n",
       "      <td>Monarchs</td>\n",
       "      <td>1202 W Edinger Ave, Santa Ana, CA, 92707-2191</td>\n",
       "      <td>NaN</td>\n",
       "      <td>NaN</td>\n",
       "    </tr>\n",
       "    <tr>\n",
       "      <th>2</th>\n",
       "      <td>42-0</td>\n",
       "      <td>La Mirada</td>\n",
       "      <td>W</td>\n",
       "      <td>Fri, 9/8</td>\n",
       "      <td>Home • Non-League</td>\n",
       "      <td>7:00pm</td>\n",
       "      <td>Mater Dei</td>\n",
       "      <td>Monarchs</td>\n",
       "      <td>1202 W Edinger Ave, Santa Ana, CA, 92707-2191</td>\n",
       "      <td>NaN</td>\n",
       "      <td>NaN</td>\n",
       "    </tr>\n",
       "    <tr>\n",
       "      <th>3</th>\n",
       "      <td>62-14</td>\n",
       "      <td>Bergen CatholicOradell, NJ</td>\n",
       "      <td>W</td>\n",
       "      <td>Sat, 9/16</td>\n",
       "      <td>TBA • Non-League</td>\n",
       "      <td>7:30pm</td>\n",
       "      <td>Mater Dei</td>\n",
       "      <td>Monarchs</td>\n",
       "      <td>1202 W Edinger Ave, Santa Ana, CA, 92707-2191</td>\n",
       "      <td>NaN</td>\n",
       "      <td>NaN</td>\n",
       "    </tr>\n",
       "    <tr>\n",
       "      <th>4</th>\n",
       "      <td>52-14</td>\n",
       "      <td>St. Mary'sStockton</td>\n",
       "      <td>W</td>\n",
       "      <td>Sat, 9/23</td>\n",
       "      <td>TBA • Non-League</td>\n",
       "      <td>7:00pm</td>\n",
       "      <td>Mater Dei</td>\n",
       "      <td>Monarchs</td>\n",
       "      <td>1202 W Edinger Ave, Santa Ana, CA, 92707-2191</td>\n",
       "      <td>NaN</td>\n",
       "      <td>NaN</td>\n",
       "    </tr>\n",
       "    <tr>\n",
       "      <th>...</th>\n",
       "      <td>...</td>\n",
       "      <td>...</td>\n",
       "      <td>...</td>\n",
       "      <td>...</td>\n",
       "      <td>...</td>\n",
       "      <td>...</td>\n",
       "      <td>...</td>\n",
       "      <td>...</td>\n",
       "      <td>...</td>\n",
       "      <td>...</td>\n",
       "      <td>...</td>\n",
       "    </tr>\n",
       "    <tr>\n",
       "      <th>88102</th>\n",
       "      <td>34-12</td>\n",
       "      <td>Memphis NighthawksArlington</td>\n",
       "      <td>L</td>\n",
       "      <td>Fri, 9/22</td>\n",
       "      <td>NaN</td>\n",
       "      <td>5:00pm</td>\n",
       "      <td>Rossville Christian Academy</td>\n",
       "      <td>Wolves</td>\n",
       "      <td>280 High St, Rossville, TN, 38066</td>\n",
       "      <td>NaN</td>\n",
       "      <td>NaN</td>\n",
       "    </tr>\n",
       "    <tr>\n",
       "      <th>88103</th>\n",
       "      <td>55-14</td>\n",
       "      <td>Nashville ChristianNashville</td>\n",
       "      <td>L</td>\n",
       "      <td>Fri, 9/29</td>\n",
       "      <td>NaN</td>\n",
       "      <td>7:00pm</td>\n",
       "      <td>Rossville Christian Academy</td>\n",
       "      <td>Wolves</td>\n",
       "      <td>280 High St, Rossville, TN, 38066</td>\n",
       "      <td>NaN</td>\n",
       "      <td>NaN</td>\n",
       "    </tr>\n",
       "    <tr>\n",
       "      <th>88104</th>\n",
       "      <td>50-0</td>\n",
       "      <td>Jackson ChristianJackson</td>\n",
       "      <td>L</td>\n",
       "      <td>Fri, 10/6</td>\n",
       "      <td>NaN</td>\n",
       "      <td>7:00pm</td>\n",
       "      <td>Rossville Christian Academy</td>\n",
       "      <td>Wolves</td>\n",
       "      <td>280 High St, Rossville, TN, 38066</td>\n",
       "      <td>NaN</td>\n",
       "      <td>NaN</td>\n",
       "    </tr>\n",
       "    <tr>\n",
       "      <th>88105</th>\n",
       "      <td>42-0</td>\n",
       "      <td>Fayette AcademySomerville</td>\n",
       "      <td>L</td>\n",
       "      <td>Fri, 10/20</td>\n",
       "      <td>NaN</td>\n",
       "      <td>7:00pm</td>\n",
       "      <td>Rossville Christian Academy</td>\n",
       "      <td>Wolves</td>\n",
       "      <td>280 High St, Rossville, TN, 38066</td>\n",
       "      <td>NaN</td>\n",
       "      <td>NaN</td>\n",
       "    </tr>\n",
       "    <tr>\n",
       "      <th>88106</th>\n",
       "      <td>56-34</td>\n",
       "      <td>Zion Christian AcademyColumbia</td>\n",
       "      <td>L</td>\n",
       "      <td>Fri, 10/27</td>\n",
       "      <td>NaN</td>\n",
       "      <td>7:00pm</td>\n",
       "      <td>Rossville Christian Academy</td>\n",
       "      <td>Wolves</td>\n",
       "      <td>280 High St, Rossville, TN, 38066</td>\n",
       "      <td>NaN</td>\n",
       "      <td>NaN</td>\n",
       "    </tr>\n",
       "  </tbody>\n",
       "</table>\n",
       "<p>88107 rows × 11 columns</p>\n",
       "</div>"
      ],
      "text/plain": [
       "       Score                          Team_2 Result_team_1        Date  \\\n",
       "0       31-7            Bishop AmatLa Puente             W   Fri, 8/25   \n",
       "1      35-21      Bishop GormanLas Vegas, NV             W    Fri, 9/1   \n",
       "2       42-0                       La Mirada             W    Fri, 9/8   \n",
       "3      62-14      Bergen CatholicOradell, NJ             W   Sat, 9/16   \n",
       "4      52-14              St. Mary'sStockton             W   Sat, 9/23   \n",
       "...      ...                             ...           ...         ...   \n",
       "88102  34-12     Memphis NighthawksArlington             L   Fri, 9/22   \n",
       "88103  55-14    Nashville ChristianNashville             L   Fri, 9/29   \n",
       "88104   50-0        Jackson ChristianJackson             L   Fri, 10/6   \n",
       "88105   42-0       Fayette AcademySomerville             L  Fri, 10/20   \n",
       "88106  56-34  Zion Christian AcademyColumbia             L  Fri, 10/27   \n",
       "\n",
       "                District    Time                       Team_1 Team_1_Mascot  \\\n",
       "0      Away • Non-League  7:00pm                    Mater Dei      Monarchs   \n",
       "1      Home • Non-League  7:00pm                    Mater Dei      Monarchs   \n",
       "2      Home • Non-League  7:00pm                    Mater Dei      Monarchs   \n",
       "3       TBA • Non-League  7:30pm                    Mater Dei      Monarchs   \n",
       "4       TBA • Non-League  7:00pm                    Mater Dei      Monarchs   \n",
       "...                  ...     ...                          ...           ...   \n",
       "88102                NaN  5:00pm  Rossville Christian Academy        Wolves   \n",
       "88103                NaN  7:00pm  Rossville Christian Academy        Wolves   \n",
       "88104                NaN  7:00pm  Rossville Christian Academy        Wolves   \n",
       "88105                NaN  7:00pm  Rossville Christian Academy        Wolves   \n",
       "88106                NaN  7:00pm  Rossville Christian Academy        Wolves   \n",
       "\n",
       "                                             Address  Level  Season  \n",
       "0      1202 W Edinger Ave, Santa Ana, CA, 92707-2191    NaN     NaN  \n",
       "1      1202 W Edinger Ave, Santa Ana, CA, 92707-2191    NaN     NaN  \n",
       "2      1202 W Edinger Ave, Santa Ana, CA, 92707-2191    NaN     NaN  \n",
       "3      1202 W Edinger Ave, Santa Ana, CA, 92707-2191    NaN     NaN  \n",
       "4      1202 W Edinger Ave, Santa Ana, CA, 92707-2191    NaN     NaN  \n",
       "...                                              ...    ...     ...  \n",
       "88102              280 High St, Rossville, TN, 38066    NaN     NaN  \n",
       "88103              280 High St, Rossville, TN, 38066    NaN     NaN  \n",
       "88104              280 High St, Rossville, TN, 38066    NaN     NaN  \n",
       "88105              280 High St, Rossville, TN, 38066    NaN     NaN  \n",
       "88106              280 High St, Rossville, TN, 38066    NaN     NaN  \n",
       "\n",
       "[88107 rows x 11 columns]"
      ]
     },
     "execution_count": 58,
     "metadata": {},
     "output_type": "execute_result"
    }
   ],
   "source": []
  },
  {
   "cell_type": "code",
   "execution_count": 31,
   "metadata": {},
   "outputs": [
    {
     "data": {
      "text/plain": [
       "(41201, 17)"
      ]
     },
     "execution_count": 31,
     "metadata": {},
     "output_type": "execute_result"
    }
   ],
   "source": []
  },
  {
   "cell_type": "code",
   "execution_count": null,
   "metadata": {},
   "outputs": [],
   "source": []
  }
 ],
 "metadata": {
  "kernelspec": {
   "display_name": "Python 3",
   "language": "python",
   "name": "python3"
  },
  "language_info": {
   "codemirror_mode": {
    "name": "ipython",
    "version": 3
   },
   "file_extension": ".py",
   "mimetype": "text/x-python",
   "name": "python",
   "nbconvert_exporter": "python",
   "pygments_lexer": "ipython3",
   "version": "3.7.6"
  }
 },
 "nbformat": 4,
 "nbformat_minor": 4
}
