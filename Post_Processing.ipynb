{
 "cells": [
  {
   "cell_type": "code",
   "execution_count": 268,
   "metadata": {},
   "outputs": [],
   "source": [
    "import pandas as pd\n",
    "import numpy as np"
   ]
  },
  {
   "cell_type": "code",
   "execution_count": 269,
   "metadata": {},
   "outputs": [],
   "source": [
    "df = pd.read_csv('/Users/amitchandna/Downloads/scripts/usa_1.csv', names=[\"Score\", \"Team_2\", \"Result_team_1\", \"Date\",\"District\",\"Time\",\"Team_1\",\"Team_1_Mascot\",\"Address\",\"Level\",\"Season\"], low_memory=False)\n",
    "\n",
    "\n",
    "\n"
   ]
  },
  {
   "cell_type": "code",
   "execution_count": 270,
   "metadata": {},
   "outputs": [],
   "source": [
    "s = df.Score\n",
    "a = df.Address\n",
    "d = df.District"
   ]
  },
  {
   "cell_type": "code",
   "execution_count": 271,
   "metadata": {},
   "outputs": [],
   "source": [
    "scored = s.str.split('-', expand=True)\n",
    "addressed= a.str.split(',', expand=True)\n",
    "districted = d.str.split('•', expand=True)"
   ]
  },
  {
   "cell_type": "code",
   "execution_count": null,
   "metadata": {},
   "outputs": [],
   "source": []
  },
  {
   "cell_type": "code",
   "execution_count": 272,
   "metadata": {},
   "outputs": [],
   "source": [
    "df = pd.concat([df,scored], axis=1)"
   ]
  },
  {
   "cell_type": "code",
   "execution_count": 273,
   "metadata": {},
   "outputs": [],
   "source": [
    "df = df.rename(columns={0:'Score_1', 1:'Score_2'})\n",
    "df = df.drop(columns={'Score'})"
   ]
  },
  {
   "cell_type": "code",
   "execution_count": 274,
   "metadata": {},
   "outputs": [],
   "source": [
    "df = pd.concat([df,addressed], axis=1)"
   ]
  },
  {
   "cell_type": "code",
   "execution_count": 275,
   "metadata": {},
   "outputs": [],
   "source": [
    "df = df.rename(columns={0:'team_1_physical_Address',1:'team_1_City',2:'team_1_State',3:'Team_1_Zip_code'})\n",
    "df = df.drop(columns={'Address',4,5})"
   ]
  },
  {
   "cell_type": "code",
   "execution_count": 276,
   "metadata": {},
   "outputs": [],
   "source": [
    "df = pd.concat([df,districted], axis=1)"
   ]
  },
  {
   "cell_type": "code",
   "execution_count": 277,
   "metadata": {},
   "outputs": [],
   "source": [
    "df = df.rename(columns={0:\"Home_Away\", 1:'District_non_district'})\n",
    "df = df.drop(columns={'District'})"
   ]
  },
  {
   "cell_type": "code",
   "execution_count": 278,
   "metadata": {},
   "outputs": [],
   "source": [
    "df = df[['Team_1','Score_1', 'Team_2', 'Score_2', 'Result_team_1','Home_Away','Team_1_Mascot','Date','District_non_district','Time','Level','Season', 'team_1_physical_Address','team_1_City','team_1_State','Team_1_Zip_code' ]]"
   ]
  },
  {
   "cell_type": "code",
   "execution_count": 279,
   "metadata": {},
   "outputs": [],
   "source": [
    "df.to_csv('usa_boys_football_1718_clean.csv')"
   ]
  },
  {
   "cell_type": "code",
   "execution_count": 280,
   "metadata": {},
   "outputs": [],
   "source": [
    "df = df.drop_duplicates()\n"
   ]
  },
  {
   "cell_type": "code",
   "execution_count": null,
   "metadata": {},
   "outputs": [],
   "source": []
  },
  {
   "cell_type": "code",
   "execution_count": 285,
   "metadata": {},
   "outputs": [],
   "source": []
  },
  {
   "cell_type": "code",
   "execution_count": 308,
   "metadata": {},
   "outputs": [],
   "source": [
    "team_1_score = []\n",
    "team_2_score = []\n",
    "for index,row in df.iterrows():\n",
    "    if row['Score_1'] == None or row['Score_2'] == None:\n",
    "        row['Score_1'] = -1\n",
    "        row['Score_2'] = -2\n",
    "        continue\n",
    "    numeric_score = ''\n",
    "    for element in row['Score_1']:\n",
    "        if element.isdigit():\n",
    "            numeric_score += element\n",
    "    if numeric_score != '':\n",
    "        row['Score_1'] = int(numeric_score)\n",
    "    else:\n",
    "        row['Score_1'] = -3\n",
    "    numeric_score = ''\n",
    "    for element in row['Score_2']:\n",
    "        if element.isdigit():\n",
    "            numeric_score += element\n",
    "    if numeric_score != '':\n",
    "        row['Score_2'] = int(numeric_score)\n",
    "    else:\n",
    "        row['Score_2'] = -4\n",
    "\n"
   ]
  },
  {
   "cell_type": "code",
   "execution_count": 309,
   "metadata": {},
   "outputs": [
    {
     "data": {
      "text/plain": [
       "str"
      ]
     },
     "execution_count": 309,
     "metadata": {},
     "output_type": "execute_result"
    }
   ],
   "source": [
    "type(df.Score_1[4])"
   ]
  },
  {
   "cell_type": "code",
   "execution_count": null,
   "metadata": {},
   "outputs": [],
   "source": []
  },
  {
   "cell_type": "code",
   "execution_count": 251,
   "metadata": {},
   "outputs": [],
   "source": [
    "level = []\n",
    "season = []\n",
    "for index,row in df.iterrows():\n",
    "    if row['Level'] == np.nan:\n",
    "        level.append('Varsity')\n",
    "        season.append('17-18')\n",
    "    else:\n",
    "        level.append('Varisty')\n",
    "        season.append('17-18')\n",
    "    "
   ]
  },
  {
   "cell_type": "code",
   "execution_count": 252,
   "metadata": {},
   "outputs": [
    {
     "data": {
      "text/plain": [
       "42       2952\n",
       "35       2448\n",
       "28       2203\n",
       "49       2152\n",
       "41       1643\n",
       "         ... \n",
       "86          4\n",
       "1           4\n",
       "83          4\n",
       "90          2\n",
       "(DFF)       1\n",
       "Name: Score_1, Length: 88, dtype: int64"
      ]
     },
     "execution_count": 252,
     "metadata": {},
     "output_type": "execute_result"
    }
   ],
   "source": [
    "df['Level'] = level\n",
    "df['Season'] = season\n",
    "df.Score_1.value_counts()"
   ]
  },
  {
   "cell_type": "code",
   "execution_count": 265,
   "metadata": {},
   "outputs": [],
   "source": [
    "for index,row in df.iterrows():\n",
    "    if row['Result_team_1'] == 'W':\n",
    "        team_1_score.append(row[\"Score_1\"] if (row[\"Score_1\"] > row[\"Score_2\"]) else row[\"Score_2\"])\n",
    "        team_2_score.append(row[\"Score_1\"] if (row[\"Score_1\"] < row[\"Score_2\"]) else row[\"Score_2\"])\n",
    "        continue\n",
    "    else:\n",
    "        team_2_score.append(row[\"Score_1\"] if (row[\"Score_1\"] > row[\"Score_2\"]) else row[\"Score_2\"])\n",
    "        team_1_score.append(row[\"Score_1\"] if (row[\"Score_1\"] < row[\"Score_2\"]) else row[\"Score_2\"])\n",
    "        continue"
   ]
  },
  {
   "cell_type": "code",
   "execution_count": 267,
   "metadata": {},
   "outputs": [
    {
     "ename": "ValueError",
     "evalue": "Length of values does not match length of index",
     "output_type": "error",
     "traceback": [
      "\u001b[0;31m---------------------------------------------------------------------------\u001b[0m",
      "\u001b[0;31mValueError\u001b[0m                                Traceback (most recent call last)",
      "\u001b[0;32m<ipython-input-267-5f197b0ac477>\u001b[0m in \u001b[0;36m<module>\u001b[0;34m\u001b[0m\n\u001b[0;32m----> 1\u001b[0;31m \u001b[0mdf\u001b[0m\u001b[0;34m[\u001b[0m\u001b[0;34m'Score_1'\u001b[0m\u001b[0;34m]\u001b[0m \u001b[0;34m=\u001b[0m \u001b[0mteam_1_score\u001b[0m\u001b[0;34m\u001b[0m\u001b[0;34m\u001b[0m\u001b[0m\n\u001b[0m\u001b[1;32m      2\u001b[0m \u001b[0mdf\u001b[0m\u001b[0;34m[\u001b[0m\u001b[0;34m'Score_2'\u001b[0m\u001b[0;34m]\u001b[0m \u001b[0;34m=\u001b[0m \u001b[0mteam_2_score\u001b[0m\u001b[0;34m\u001b[0m\u001b[0;34m\u001b[0m\u001b[0m\n",
      "\u001b[0;32m~/opt/anaconda3/lib/python3.7/site-packages/pandas/core/frame.py\u001b[0m in \u001b[0;36m__setitem__\u001b[0;34m(self, key, value)\u001b[0m\n\u001b[1;32m   2936\u001b[0m         \u001b[0;32melse\u001b[0m\u001b[0;34m:\u001b[0m\u001b[0;34m\u001b[0m\u001b[0;34m\u001b[0m\u001b[0m\n\u001b[1;32m   2937\u001b[0m             \u001b[0;31m# set column\u001b[0m\u001b[0;34m\u001b[0m\u001b[0;34m\u001b[0m\u001b[0;34m\u001b[0m\u001b[0m\n\u001b[0;32m-> 2938\u001b[0;31m             \u001b[0mself\u001b[0m\u001b[0;34m.\u001b[0m\u001b[0m_set_item\u001b[0m\u001b[0;34m(\u001b[0m\u001b[0mkey\u001b[0m\u001b[0;34m,\u001b[0m \u001b[0mvalue\u001b[0m\u001b[0;34m)\u001b[0m\u001b[0;34m\u001b[0m\u001b[0;34m\u001b[0m\u001b[0m\n\u001b[0m\u001b[1;32m   2939\u001b[0m \u001b[0;34m\u001b[0m\u001b[0m\n\u001b[1;32m   2940\u001b[0m     \u001b[0;32mdef\u001b[0m \u001b[0m_setitem_slice\u001b[0m\u001b[0;34m(\u001b[0m\u001b[0mself\u001b[0m\u001b[0;34m,\u001b[0m \u001b[0mkey\u001b[0m\u001b[0;34m,\u001b[0m \u001b[0mvalue\u001b[0m\u001b[0;34m)\u001b[0m\u001b[0;34m:\u001b[0m\u001b[0;34m\u001b[0m\u001b[0;34m\u001b[0m\u001b[0m\n",
      "\u001b[0;32m~/opt/anaconda3/lib/python3.7/site-packages/pandas/core/frame.py\u001b[0m in \u001b[0;36m_set_item\u001b[0;34m(self, key, value)\u001b[0m\n\u001b[1;32m   2998\u001b[0m \u001b[0;34m\u001b[0m\u001b[0m\n\u001b[1;32m   2999\u001b[0m         \u001b[0mself\u001b[0m\u001b[0;34m.\u001b[0m\u001b[0m_ensure_valid_index\u001b[0m\u001b[0;34m(\u001b[0m\u001b[0mvalue\u001b[0m\u001b[0;34m)\u001b[0m\u001b[0;34m\u001b[0m\u001b[0;34m\u001b[0m\u001b[0m\n\u001b[0;32m-> 3000\u001b[0;31m         \u001b[0mvalue\u001b[0m \u001b[0;34m=\u001b[0m \u001b[0mself\u001b[0m\u001b[0;34m.\u001b[0m\u001b[0m_sanitize_column\u001b[0m\u001b[0;34m(\u001b[0m\u001b[0mkey\u001b[0m\u001b[0;34m,\u001b[0m \u001b[0mvalue\u001b[0m\u001b[0;34m)\u001b[0m\u001b[0;34m\u001b[0m\u001b[0;34m\u001b[0m\u001b[0m\n\u001b[0m\u001b[1;32m   3001\u001b[0m         \u001b[0mNDFrame\u001b[0m\u001b[0;34m.\u001b[0m\u001b[0m_set_item\u001b[0m\u001b[0;34m(\u001b[0m\u001b[0mself\u001b[0m\u001b[0;34m,\u001b[0m \u001b[0mkey\u001b[0m\u001b[0;34m,\u001b[0m \u001b[0mvalue\u001b[0m\u001b[0;34m)\u001b[0m\u001b[0;34m\u001b[0m\u001b[0;34m\u001b[0m\u001b[0m\n\u001b[1;32m   3002\u001b[0m \u001b[0;34m\u001b[0m\u001b[0m\n",
      "\u001b[0;32m~/opt/anaconda3/lib/python3.7/site-packages/pandas/core/frame.py\u001b[0m in \u001b[0;36m_sanitize_column\u001b[0;34m(self, key, value, broadcast)\u001b[0m\n\u001b[1;32m   3634\u001b[0m \u001b[0;34m\u001b[0m\u001b[0m\n\u001b[1;32m   3635\u001b[0m             \u001b[0;31m# turn me into an ndarray\u001b[0m\u001b[0;34m\u001b[0m\u001b[0;34m\u001b[0m\u001b[0;34m\u001b[0m\u001b[0m\n\u001b[0;32m-> 3636\u001b[0;31m             \u001b[0mvalue\u001b[0m \u001b[0;34m=\u001b[0m \u001b[0msanitize_index\u001b[0m\u001b[0;34m(\u001b[0m\u001b[0mvalue\u001b[0m\u001b[0;34m,\u001b[0m \u001b[0mself\u001b[0m\u001b[0;34m.\u001b[0m\u001b[0mindex\u001b[0m\u001b[0;34m,\u001b[0m \u001b[0mcopy\u001b[0m\u001b[0;34m=\u001b[0m\u001b[0;32mFalse\u001b[0m\u001b[0;34m)\u001b[0m\u001b[0;34m\u001b[0m\u001b[0;34m\u001b[0m\u001b[0m\n\u001b[0m\u001b[1;32m   3637\u001b[0m             \u001b[0;32mif\u001b[0m \u001b[0;32mnot\u001b[0m \u001b[0misinstance\u001b[0m\u001b[0;34m(\u001b[0m\u001b[0mvalue\u001b[0m\u001b[0;34m,\u001b[0m \u001b[0;34m(\u001b[0m\u001b[0mnp\u001b[0m\u001b[0;34m.\u001b[0m\u001b[0mndarray\u001b[0m\u001b[0;34m,\u001b[0m \u001b[0mIndex\u001b[0m\u001b[0;34m)\u001b[0m\u001b[0;34m)\u001b[0m\u001b[0;34m:\u001b[0m\u001b[0;34m\u001b[0m\u001b[0;34m\u001b[0m\u001b[0m\n\u001b[1;32m   3638\u001b[0m                 \u001b[0;32mif\u001b[0m \u001b[0misinstance\u001b[0m\u001b[0;34m(\u001b[0m\u001b[0mvalue\u001b[0m\u001b[0;34m,\u001b[0m \u001b[0mlist\u001b[0m\u001b[0;34m)\u001b[0m \u001b[0;32mand\u001b[0m \u001b[0mlen\u001b[0m\u001b[0;34m(\u001b[0m\u001b[0mvalue\u001b[0m\u001b[0;34m)\u001b[0m \u001b[0;34m>\u001b[0m \u001b[0;36m0\u001b[0m\u001b[0;34m:\u001b[0m\u001b[0;34m\u001b[0m\u001b[0;34m\u001b[0m\u001b[0m\n",
      "\u001b[0;32m~/opt/anaconda3/lib/python3.7/site-packages/pandas/core/internals/construction.py\u001b[0m in \u001b[0;36msanitize_index\u001b[0;34m(data, index, copy)\u001b[0m\n\u001b[1;32m    609\u001b[0m \u001b[0;34m\u001b[0m\u001b[0m\n\u001b[1;32m    610\u001b[0m     \u001b[0;32mif\u001b[0m \u001b[0mlen\u001b[0m\u001b[0;34m(\u001b[0m\u001b[0mdata\u001b[0m\u001b[0;34m)\u001b[0m \u001b[0;34m!=\u001b[0m \u001b[0mlen\u001b[0m\u001b[0;34m(\u001b[0m\u001b[0mindex\u001b[0m\u001b[0;34m)\u001b[0m\u001b[0;34m:\u001b[0m\u001b[0;34m\u001b[0m\u001b[0;34m\u001b[0m\u001b[0m\n\u001b[0;32m--> 611\u001b[0;31m         \u001b[0;32mraise\u001b[0m \u001b[0mValueError\u001b[0m\u001b[0;34m(\u001b[0m\u001b[0;34m\"Length of values does not match length of index\"\u001b[0m\u001b[0;34m)\u001b[0m\u001b[0;34m\u001b[0m\u001b[0;34m\u001b[0m\u001b[0m\n\u001b[0m\u001b[1;32m    612\u001b[0m \u001b[0;34m\u001b[0m\u001b[0m\n\u001b[1;32m    613\u001b[0m     \u001b[0;32mif\u001b[0m \u001b[0misinstance\u001b[0m\u001b[0;34m(\u001b[0m\u001b[0mdata\u001b[0m\u001b[0;34m,\u001b[0m \u001b[0mABCIndexClass\u001b[0m\u001b[0;34m)\u001b[0m \u001b[0;32mand\u001b[0m \u001b[0;32mnot\u001b[0m \u001b[0mcopy\u001b[0m\u001b[0;34m:\u001b[0m\u001b[0;34m\u001b[0m\u001b[0;34m\u001b[0m\u001b[0m\n",
      "\u001b[0;31mValueError\u001b[0m: Length of values does not match length of index"
     ]
    }
   ],
   "source": [
    "df['Score_1'] = team_1_score\n",
    "df['Score_2'] = team_2_score"
   ]
  },
  {
   "cell_type": "code",
   "execution_count": 168,
   "metadata": {},
   "outputs": [],
   "source": [
    "location = ['Home','TBA']"
   ]
  },
  {
   "cell_type": "code",
   "execution_count": 169,
   "metadata": {},
   "outputs": [],
   "source": [
    "newdf = df[df['Home_Away'] != 'Away']"
   ]
  },
  {
   "cell_type": "code",
   "execution_count": 170,
   "metadata": {},
   "outputs": [],
   "source": [
    "val = df['Home_Away'].dropna()"
   ]
  },
  {
   "cell_type": "code",
   "execution_count": 264,
   "metadata": {},
   "outputs": [
    {
     "data": {
      "text/plain": [
       "int"
      ]
     },
     "execution_count": 264,
     "metadata": {},
     "output_type": "execute_result"
    }
   ],
   "source": [
    "type(df.Score_1[3])"
   ]
  },
  {
   "cell_type": "code",
   "execution_count": 127,
   "metadata": {},
   "outputs": [],
   "source": [
    "df.to_csv('usa_football_boys_1718_clean_1.csv')"
   ]
  },
  {
   "cell_type": "code",
   "execution_count": 266,
   "metadata": {},
   "outputs": [
    {
     "data": {
      "text/html": [
       "<div>\n",
       "<style scoped>\n",
       "    .dataframe tbody tr th:only-of-type {\n",
       "        vertical-align: middle;\n",
       "    }\n",
       "\n",
       "    .dataframe tbody tr th {\n",
       "        vertical-align: top;\n",
       "    }\n",
       "\n",
       "    .dataframe thead th {\n",
       "        text-align: right;\n",
       "    }\n",
       "</style>\n",
       "<table border=\"1\" class=\"dataframe\">\n",
       "  <thead>\n",
       "    <tr style=\"text-align: right;\">\n",
       "      <th></th>\n",
       "      <th>Team_1</th>\n",
       "      <th>Score_1</th>\n",
       "      <th>Team_2</th>\n",
       "      <th>Score_2</th>\n",
       "      <th>Result_team_1</th>\n",
       "      <th>Home_Away</th>\n",
       "      <th>Team_1_Mascot</th>\n",
       "      <th>Date</th>\n",
       "      <th>District_non_district</th>\n",
       "      <th>Time</th>\n",
       "      <th>Level</th>\n",
       "      <th>Season</th>\n",
       "      <th>team_1_physical_Address</th>\n",
       "      <th>team_1_City</th>\n",
       "      <th>team_1_State</th>\n",
       "      <th>Team_1_Zip_code</th>\n",
       "    </tr>\n",
       "  </thead>\n",
       "  <tbody>\n",
       "    <tr>\n",
       "      <th>0</th>\n",
       "      <td>Mater Dei</td>\n",
       "      <td>31</td>\n",
       "      <td>Bishop AmatLa Puente</td>\n",
       "      <td>7</td>\n",
       "      <td>W</td>\n",
       "      <td>Away</td>\n",
       "      <td>Monarchs</td>\n",
       "      <td>Fri, 8/25</td>\n",
       "      <td>Non-League</td>\n",
       "      <td>7:00pm</td>\n",
       "      <td>Varisty</td>\n",
       "      <td>17-18</td>\n",
       "      <td>1202 W Edinger Ave</td>\n",
       "      <td>Santa Ana</td>\n",
       "      <td>CA</td>\n",
       "      <td>92707-2191</td>\n",
       "    </tr>\n",
       "    <tr>\n",
       "      <th>1</th>\n",
       "      <td>Mater Dei</td>\n",
       "      <td>35</td>\n",
       "      <td>Bishop GormanLas Vegas, NV</td>\n",
       "      <td>21</td>\n",
       "      <td>W</td>\n",
       "      <td>Home</td>\n",
       "      <td>Monarchs</td>\n",
       "      <td>Fri, 9/1</td>\n",
       "      <td>Non-League</td>\n",
       "      <td>7:00pm</td>\n",
       "      <td>Varisty</td>\n",
       "      <td>17-18</td>\n",
       "      <td>1202 W Edinger Ave</td>\n",
       "      <td>Santa Ana</td>\n",
       "      <td>CA</td>\n",
       "      <td>92707-2191</td>\n",
       "    </tr>\n",
       "    <tr>\n",
       "      <th>2</th>\n",
       "      <td>Mater Dei</td>\n",
       "      <td>42</td>\n",
       "      <td>La Mirada</td>\n",
       "      <td>0</td>\n",
       "      <td>W</td>\n",
       "      <td>Home</td>\n",
       "      <td>Monarchs</td>\n",
       "      <td>Fri, 9/8</td>\n",
       "      <td>Non-League</td>\n",
       "      <td>7:00pm</td>\n",
       "      <td>Varisty</td>\n",
       "      <td>17-18</td>\n",
       "      <td>1202 W Edinger Ave</td>\n",
       "      <td>Santa Ana</td>\n",
       "      <td>CA</td>\n",
       "      <td>92707-2191</td>\n",
       "    </tr>\n",
       "    <tr>\n",
       "      <th>3</th>\n",
       "      <td>Mater Dei</td>\n",
       "      <td>62</td>\n",
       "      <td>Bergen CatholicOradell, NJ</td>\n",
       "      <td>14</td>\n",
       "      <td>W</td>\n",
       "      <td>TBA</td>\n",
       "      <td>Monarchs</td>\n",
       "      <td>Sat, 9/16</td>\n",
       "      <td>Non-League</td>\n",
       "      <td>7:30pm</td>\n",
       "      <td>Varisty</td>\n",
       "      <td>17-18</td>\n",
       "      <td>1202 W Edinger Ave</td>\n",
       "      <td>Santa Ana</td>\n",
       "      <td>CA</td>\n",
       "      <td>92707-2191</td>\n",
       "    </tr>\n",
       "    <tr>\n",
       "      <th>4</th>\n",
       "      <td>Mater Dei</td>\n",
       "      <td>52</td>\n",
       "      <td>St. Mary'sStockton</td>\n",
       "      <td>14</td>\n",
       "      <td>W</td>\n",
       "      <td>TBA</td>\n",
       "      <td>Monarchs</td>\n",
       "      <td>Sat, 9/23</td>\n",
       "      <td>Non-League</td>\n",
       "      <td>7:00pm</td>\n",
       "      <td>Varisty</td>\n",
       "      <td>17-18</td>\n",
       "      <td>1202 W Edinger Ave</td>\n",
       "      <td>Santa Ana</td>\n",
       "      <td>CA</td>\n",
       "      <td>92707-2191</td>\n",
       "    </tr>\n",
       "    <tr>\n",
       "      <th>...</th>\n",
       "      <td>...</td>\n",
       "      <td>...</td>\n",
       "      <td>...</td>\n",
       "      <td>...</td>\n",
       "      <td>...</td>\n",
       "      <td>...</td>\n",
       "      <td>...</td>\n",
       "      <td>...</td>\n",
       "      <td>...</td>\n",
       "      <td>...</td>\n",
       "      <td>...</td>\n",
       "      <td>...</td>\n",
       "      <td>...</td>\n",
       "      <td>...</td>\n",
       "      <td>...</td>\n",
       "      <td>...</td>\n",
       "    </tr>\n",
       "    <tr>\n",
       "      <th>88102</th>\n",
       "      <td>Rossville Christian Academy</td>\n",
       "      <td>34</td>\n",
       "      <td>Memphis NighthawksArlington</td>\n",
       "      <td>12</td>\n",
       "      <td>L</td>\n",
       "      <td>NaN</td>\n",
       "      <td>Wolves</td>\n",
       "      <td>Fri, 9/22</td>\n",
       "      <td>NaN</td>\n",
       "      <td>5:00pm</td>\n",
       "      <td>Varisty</td>\n",
       "      <td>17-18</td>\n",
       "      <td>280 High St</td>\n",
       "      <td>Rossville</td>\n",
       "      <td>TN</td>\n",
       "      <td>38066</td>\n",
       "    </tr>\n",
       "    <tr>\n",
       "      <th>88103</th>\n",
       "      <td>Rossville Christian Academy</td>\n",
       "      <td>55</td>\n",
       "      <td>Nashville ChristianNashville</td>\n",
       "      <td>14</td>\n",
       "      <td>L</td>\n",
       "      <td>NaN</td>\n",
       "      <td>Wolves</td>\n",
       "      <td>Fri, 9/29</td>\n",
       "      <td>NaN</td>\n",
       "      <td>7:00pm</td>\n",
       "      <td>Varisty</td>\n",
       "      <td>17-18</td>\n",
       "      <td>280 High St</td>\n",
       "      <td>Rossville</td>\n",
       "      <td>TN</td>\n",
       "      <td>38066</td>\n",
       "    </tr>\n",
       "    <tr>\n",
       "      <th>88104</th>\n",
       "      <td>Rossville Christian Academy</td>\n",
       "      <td>50</td>\n",
       "      <td>Jackson ChristianJackson</td>\n",
       "      <td>0</td>\n",
       "      <td>L</td>\n",
       "      <td>NaN</td>\n",
       "      <td>Wolves</td>\n",
       "      <td>Fri, 10/6</td>\n",
       "      <td>NaN</td>\n",
       "      <td>7:00pm</td>\n",
       "      <td>Varisty</td>\n",
       "      <td>17-18</td>\n",
       "      <td>280 High St</td>\n",
       "      <td>Rossville</td>\n",
       "      <td>TN</td>\n",
       "      <td>38066</td>\n",
       "    </tr>\n",
       "    <tr>\n",
       "      <th>88105</th>\n",
       "      <td>Rossville Christian Academy</td>\n",
       "      <td>42</td>\n",
       "      <td>Fayette AcademySomerville</td>\n",
       "      <td>0</td>\n",
       "      <td>L</td>\n",
       "      <td>NaN</td>\n",
       "      <td>Wolves</td>\n",
       "      <td>Fri, 10/20</td>\n",
       "      <td>NaN</td>\n",
       "      <td>7:00pm</td>\n",
       "      <td>Varisty</td>\n",
       "      <td>17-18</td>\n",
       "      <td>280 High St</td>\n",
       "      <td>Rossville</td>\n",
       "      <td>TN</td>\n",
       "      <td>38066</td>\n",
       "    </tr>\n",
       "    <tr>\n",
       "      <th>88106</th>\n",
       "      <td>Rossville Christian Academy</td>\n",
       "      <td>56</td>\n",
       "      <td>Zion Christian AcademyColumbia</td>\n",
       "      <td>34</td>\n",
       "      <td>L</td>\n",
       "      <td>NaN</td>\n",
       "      <td>Wolves</td>\n",
       "      <td>Fri, 10/27</td>\n",
       "      <td>NaN</td>\n",
       "      <td>7:00pm</td>\n",
       "      <td>Varisty</td>\n",
       "      <td>17-18</td>\n",
       "      <td>280 High St</td>\n",
       "      <td>Rossville</td>\n",
       "      <td>TN</td>\n",
       "      <td>38066</td>\n",
       "    </tr>\n",
       "  </tbody>\n",
       "</table>\n",
       "<p>41201 rows × 16 columns</p>\n",
       "</div>"
      ],
      "text/plain": [
       "                            Team_1 Score_1                          Team_2  \\\n",
       "0                        Mater Dei      31            Bishop AmatLa Puente   \n",
       "1                        Mater Dei      35      Bishop GormanLas Vegas, NV   \n",
       "2                        Mater Dei      42                       La Mirada   \n",
       "3                        Mater Dei      62      Bergen CatholicOradell, NJ   \n",
       "4                        Mater Dei      52              St. Mary'sStockton   \n",
       "...                            ...     ...                             ...   \n",
       "88102  Rossville Christian Academy      34     Memphis NighthawksArlington   \n",
       "88103  Rossville Christian Academy      55    Nashville ChristianNashville   \n",
       "88104  Rossville Christian Academy      50        Jackson ChristianJackson   \n",
       "88105  Rossville Christian Academy      42       Fayette AcademySomerville   \n",
       "88106  Rossville Christian Academy      56  Zion Christian AcademyColumbia   \n",
       "\n",
       "      Score_2 Result_team_1 Home_Away Team_1_Mascot        Date  \\\n",
       "0           7             W     Away       Monarchs   Fri, 8/25   \n",
       "1          21             W     Home       Monarchs    Fri, 9/1   \n",
       "2           0             W     Home       Monarchs    Fri, 9/8   \n",
       "3          14             W      TBA       Monarchs   Sat, 9/16   \n",
       "4          14             W      TBA       Monarchs   Sat, 9/23   \n",
       "...       ...           ...       ...           ...         ...   \n",
       "88102      12             L       NaN        Wolves   Fri, 9/22   \n",
       "88103      14             L       NaN        Wolves   Fri, 9/29   \n",
       "88104       0             L       NaN        Wolves   Fri, 10/6   \n",
       "88105       0             L       NaN        Wolves  Fri, 10/20   \n",
       "88106      34             L       NaN        Wolves  Fri, 10/27   \n",
       "\n",
       "      District_non_district    Time    Level Season team_1_physical_Address  \\\n",
       "0                Non-League  7:00pm  Varisty  17-18      1202 W Edinger Ave   \n",
       "1                Non-League  7:00pm  Varisty  17-18      1202 W Edinger Ave   \n",
       "2                Non-League  7:00pm  Varisty  17-18      1202 W Edinger Ave   \n",
       "3                Non-League  7:30pm  Varisty  17-18      1202 W Edinger Ave   \n",
       "4                Non-League  7:00pm  Varisty  17-18      1202 W Edinger Ave   \n",
       "...                     ...     ...      ...    ...                     ...   \n",
       "88102                   NaN  5:00pm  Varisty  17-18             280 High St   \n",
       "88103                   NaN  7:00pm  Varisty  17-18             280 High St   \n",
       "88104                   NaN  7:00pm  Varisty  17-18             280 High St   \n",
       "88105                   NaN  7:00pm  Varisty  17-18             280 High St   \n",
       "88106                   NaN  7:00pm  Varisty  17-18             280 High St   \n",
       "\n",
       "      team_1_City team_1_State Team_1_Zip_code  \n",
       "0       Santa Ana           CA      92707-2191  \n",
       "1       Santa Ana           CA      92707-2191  \n",
       "2       Santa Ana           CA      92707-2191  \n",
       "3       Santa Ana           CA      92707-2191  \n",
       "4       Santa Ana           CA      92707-2191  \n",
       "...           ...          ...             ...  \n",
       "88102   Rossville           TN           38066  \n",
       "88103   Rossville           TN           38066  \n",
       "88104   Rossville           TN           38066  \n",
       "88105   Rossville           TN           38066  \n",
       "88106   Rossville           TN           38066  \n",
       "\n",
       "[41201 rows x 16 columns]"
      ]
     },
     "execution_count": 266,
     "metadata": {},
     "output_type": "execute_result"
    }
   ],
   "source": [
    "df"
   ]
  },
  {
   "cell_type": "code",
   "execution_count": null,
   "metadata": {},
   "outputs": [],
   "source": []
  }
 ],
 "metadata": {
  "kernelspec": {
   "display_name": "Python 3",
   "language": "python",
   "name": "python3"
  },
  "language_info": {
   "codemirror_mode": {
    "name": "ipython",
    "version": 3
   },
   "file_extension": ".py",
   "mimetype": "text/x-python",
   "name": "python",
   "nbconvert_exporter": "python",
   "pygments_lexer": "ipython3",
   "version": "3.7.6"
  }
 },
 "nbformat": 4,
 "nbformat_minor": 4
}
