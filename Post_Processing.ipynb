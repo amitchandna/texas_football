{
 "cells": [
  {
   "cell_type": "code",
   "execution_count": 180,
   "metadata": {},
   "outputs": [],
   "source": [
    "import pandas as pd\n",
    "import numpy as np"
   ]
  },
  {
   "cell_type": "code",
   "execution_count": 181,
   "metadata": {},
   "outputs": [],
   "source": [
    "df = pd.read_csv('/Users/amitchandna/Documents/Data_Science/Github/tamu_web_scrape/texas_football/texas_boys_football_1718.csv', names=[\"Score\", \"Team_2\", \"Result_team_1\", \"Date\",\"District\",\"Time\",\"Team_1\",\"Team_1_Mascot\",\"Address\",\"Level\",\"Season\"])"
   ]
  },
  {
   "cell_type": "code",
   "execution_count": 182,
   "metadata": {},
   "outputs": [],
   "source": [
    "s = df.Score\n",
    "a = df.Address\n",
    "d = df.District"
   ]
  },
  {
   "cell_type": "code",
   "execution_count": 183,
   "metadata": {},
   "outputs": [],
   "source": [
    "scored = s.str.split('-', expand=True)\n",
    "addressed= a.str.split(',', expand=True)\n",
    "districted = d.str.split('•', expand=True)"
   ]
  },
  {
   "cell_type": "code",
   "execution_count": 184,
   "metadata": {},
   "outputs": [
    {
     "data": {
      "text/plain": [
       "dtype('O')"
      ]
     },
     "execution_count": 184,
     "metadata": {},
     "output_type": "execute_result"
    }
   ],
   "source": [
    "scored[2].dtype"
   ]
  },
  {
   "cell_type": "code",
   "execution_count": 185,
   "metadata": {},
   "outputs": [],
   "source": [
    "df = pd.concat([df,scored], axis=1)"
   ]
  },
  {
   "cell_type": "code",
   "execution_count": 186,
   "metadata": {},
   "outputs": [],
   "source": [
    "df = df.rename(columns={0:'Score_1', 1:'Score_2'})\n",
    "df = df.drop(columns={'Score', 2})"
   ]
  },
  {
   "cell_type": "code",
   "execution_count": 187,
   "metadata": {},
   "outputs": [],
   "source": [
    "df = pd.concat([df,addressed], axis=1)"
   ]
  },
  {
   "cell_type": "code",
   "execution_count": 188,
   "metadata": {},
   "outputs": [],
   "source": [
    "df = df.rename(columns={0:'team_1_physical_Address',1:'team_1_City',2:'team_1_State',3:'Team_1_Zip_code'})\n",
    "df = df.drop(columns={'Address',4,5})"
   ]
  },
  {
   "cell_type": "code",
   "execution_count": 189,
   "metadata": {},
   "outputs": [],
   "source": [
    "df = pd.concat([df,districted], axis=1)"
   ]
  },
  {
   "cell_type": "code",
   "execution_count": 190,
   "metadata": {},
   "outputs": [],
   "source": [
    "df = df.rename(columns={0:\"Home_Away\", 1:'District_non_district'})\n",
    "df = df.drop(columns={'District'})"
   ]
  },
  {
   "cell_type": "code",
   "execution_count": 191,
   "metadata": {},
   "outputs": [],
   "source": [
    "df = df[['Team_1','Score_1', 'Team_2', 'Score_2', 'Result_team_1','Team_1_Mascot','Date','District_non_district','Time','Level','Season', 'team_1_physical_Address','team_1_City','team_1_State','Team_1_Zip_code' ]]"
   ]
  },
  {
   "cell_type": "code",
   "execution_count": 192,
   "metadata": {},
   "outputs": [],
   "source": [
    "df.to_csv('texas_boys_football_1718_clean.csv')"
   ]
  },
  {
   "cell_type": "code",
   "execution_count": 193,
   "metadata": {},
   "outputs": [
    {
     "data": {
      "text/plain": [
       "L    6808\n",
       "W    6693\n",
       "Name: Result_team_1, dtype: int64"
      ]
     },
     "execution_count": 193,
     "metadata": {},
     "output_type": "execute_result"
    }
   ],
   "source": [
    "df.Result_team_1.value_counts()"
   ]
  },
  {
   "cell_type": "code",
   "execution_count": 194,
   "metadata": {},
   "outputs": [],
   "source": [
    "team_1_score = []\n",
    "team_2_score = []"
   ]
  },
  {
   "cell_type": "code",
   "execution_count": 195,
   "metadata": {},
   "outputs": [],
   "source": [
    "for index,row in df.iterrows():\n",
    "    if row['Score_1'] == None or row['Score_2'] == None:\n",
    "        row['Score_1'] = -1\n",
    "        row['Score_2'] = -2\n",
    "        continue\n",
    "    numeric_score = ''\n",
    "    for element in row['Score_1']:\n",
    "        if element.isdigit():\n",
    "            numeric_score += element\n",
    "    if numeric_score != '':\n",
    "        row['Score_1'] = int(numeric_score)\n",
    "    else:\n",
    "        row['Score_1'] = -3\n",
    "    numeric_score = ''\n",
    "    for element in row['Score_2']:\n",
    "        if element.isdigit():\n",
    "            numeric_score += element\n",
    "    if numeric_score != '':\n",
    "        row['Score_2'] = int(numeric_score)\n",
    "    else:\n",
    "        row['Score_2'] = -4\n"
   ]
  },
  {
   "cell_type": "code",
   "execution_count": null,
   "metadata": {},
   "outputs": [],
   "source": []
  },
  {
   "cell_type": "code",
   "execution_count": null,
   "metadata": {},
   "outputs": [],
   "source": []
  },
  {
   "cell_type": "code",
   "execution_count": 196,
   "metadata": {},
   "outputs": [],
   "source": [
    "for index,row in df.iterrows():\n",
    "    if row['Result_team_1'] == 'W':\n",
    "        team_1_score.append(row[\"Score_1\"] if (row[\"Score_1\"] > row[\"Score_2\"]) else row[\"Score_2\"])\n",
    "        team_2_score.append(row[\"Score_1\"] if (row[\"Score_1\"] < row[\"Score_2\"]) else row[\"Score_2\"])\n",
    "        continue\n",
    "    else:\n",
    "        team_2_score.append(row[\"Score_1\"] if (row[\"Score_1\"] > row[\"Score_2\"]) else row[\"Score_2\"])\n",
    "        team_1_score.append(row[\"Score_1\"] if (row[\"Score_1\"] < row[\"Score_2\"]) else row[\"Score_2\"])\n",
    "        continue"
   ]
  },
  {
   "cell_type": "code",
   "execution_count": 197,
   "metadata": {},
   "outputs": [],
   "source": [
    "df['Score_1'] = team_1_score\n",
    "df['Score_2'] = team_2_score"
   ]
  },
  {
   "cell_type": "code",
   "execution_count": 198,
   "metadata": {},
   "outputs": [],
   "source": [
    "df.to_csv('texas_football_boys_1718_clean.csv')"
   ]
  },
  {
   "cell_type": "code",
   "execution_count": null,
   "metadata": {},
   "outputs": [],
   "source": []
  },
  {
   "cell_type": "code",
   "execution_count": null,
   "metadata": {},
   "outputs": [],
   "source": []
  }
 ],
 "metadata": {
  "kernelspec": {
   "display_name": "Python 3",
   "language": "python",
   "name": "python3"
  },
  "language_info": {
   "codemirror_mode": {
    "name": "ipython",
    "version": 3
   },
   "file_extension": ".py",
   "mimetype": "text/x-python",
   "name": "python",
   "nbconvert_exporter": "python",
   "pygments_lexer": "ipython3",
   "version": "3.7.6"
  }
 },
 "nbformat": 4,
 "nbformat_minor": 4
}
